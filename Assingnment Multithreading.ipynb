{
 "cells": [
  {
   "cell_type": "markdown",
   "id": "4b425bb7-c277-4463-be7d-9d9482c4c96f",
   "metadata": {},
   "source": [
    "## Q1.what is multithreading in python? why is it used? Name the module used to handle threads in python."
   ]
  },
  {
   "cell_type": "markdown",
   "id": "e81491e6-ea46-4aea-bb47-4a6186f5ecfd",
   "metadata": {},
   "source": [
    "## In Python, multithreading refers to a programming technique that allows you to execute multiple sequences of instructions (threads) concurrently within a single process. This creates the illusion of multiple programs running simultaneously, even though you're still utilizing a single CPU core.\n",
    "\n",
    "# Multithreading is used:\n",
    "## Improved Responsiveness.\n",
    "## Efficient CPU Utilization.\n",
    "## Simplified Management of Concurrent Activities.\n",
    "\n",
    "## Create threads: You can define functions or code blocks to be executed as separate threads.\n",
    "## Manage thread execution: You can start, stop, and control the execution of threads.\n",
    "## Synchronize access to shared resources: When multiple threads access shared data, mechanisms like locks and semaphores are crucial to prevent race conditions (unexpected behavior due to unsynchronized access).\n"
   ]
  },
  {
   "cell_type": "code",
   "execution_count": null,
   "id": "81c7fd26-4e1e-4e9f-ae53-803bd9c88539",
   "metadata": {},
   "outputs": [],
   "source": []
  },
  {
   "cell_type": "markdown",
   "id": "ca066348-ebf0-4108-a68e-cafa852c4c55",
   "metadata": {},
   "source": [
    "## Q.2 Why threading module used? write the use of the following functions:\n",
    "## 1.activeCount()\n",
    "## 2.currentThread()\n",
    "## 3.enumerate()"
   ]
  },
  {
   "cell_type": "markdown",
   "id": "d8e92b2b-55fb-4cc9-af8d-9ef13b70f227",
   "metadata": {},
   "source": [
    "# Why Use the threading Module:\n",
    "## Improved Responsiveness: Multithreading allows programs to remain responsive, especially for long-running tasks. For instance, the UI can stay active while a file downloads in the background on a separate thread, enhancing user experience.\n",
    "## Efficient CPU Utilization: Modern CPUs often have multiple cores that can execute instructions simultaneously. By distributing work among these cores (using multiple threads), programs can potentially execute faster, particularly for tasks that can be broken down into independent subtasks.\n",
    "## Simplified Management of Concurrent Activities: Multithreading provides a structured approach for handling multiple activities within a program, making program flow and communication between threads easier to manage.\n",
    "## 1.activeCount():Purpose: Returns the total number of active thread objects (including the main thread).\n",
    "## Usage: This function is helpful for monitoring the number of currently running threads in your application. It can be used for debugging, resource management, or ensuring all threads have finished before program termination.\n",
    "\n",
    "## 2.currentThread(): Purpose: Returns the currently executing thread object.\n",
    "## Usage: This function can be used to identify the current thread within your code. It's often unnecessary for typical multithreading tasks, but it can be useful for debugging or logging purposes to understand which thread is executing a particular code block\n",
    "\n",
    "\n",
    "## 3.enumerate() :Purpose: Returns a list of all currently active thread objects (including the main thread).\n",
    "## Usage: This function is useful for getting an overview of all running threads in your application. It can be used for debugging, monitoring thread execution, or managing thread resources.\n"
   ]
  },
  {
   "cell_type": "code",
   "execution_count": null,
   "id": "568a32dd-72da-415a-b7f8-0aa0be34f198",
   "metadata": {},
   "outputs": [],
   "source": []
  },
  {
   "cell_type": "markdown",
   "id": "4fe3532c-0345-458f-ace7-97fbf6711a71",
   "metadata": {},
   "source": [
    "# Run():\n",
    "## This method represents the entry point for the thread when it's started. It's called internally when you invoke the start() method on a Thread object.\n",
    "## You can override this method in a subclass of Thread to define the behavior of the thread. Whatever code you put in this method will be executed when the thread starts.\n",
    "\n",
    "# start():\n",
    "## This method starts the execution of the thread. When you call start(), it calls the run() method internally and executes the code within that method in a separate thread of control.\n",
    "## You should not call the run() method directly; instead, call start() to ensure the thread is properly started.\n",
    "\n",
    "# join():\n",
    "## This method blocks the calling thread until the thread whose join() method is called terminates (i.e., finishes its execution).\n",
    "## If you provide a timeout argument, the calling thread will wait for the specified amount of time for the thread to finish. If the timeout elapses before the thread finishes, the method returns.\n",
    "## If you do not provide a timeout, the calling thread will block indefinitely until the target thread completes its execution.\n",
    "\n",
    "# isAlive():\n",
    "## This method returns a boolean value indicating whether the thread is currently executing or not.\n",
    "## It returns True if the thread is alive (i.e., it has been started and has not yet terminated), and False otherwise.\n",
    "## This method is useful if you need to check whether a thread is still running before taking some action based on its status.\n",
    "\n",
    "\n"
   ]
  },
  {
   "cell_type": "code",
   "execution_count": null,
   "id": "5b846f0b-70d3-4259-a86c-fbbcb55eb445",
   "metadata": {},
   "outputs": [],
   "source": []
  },
  {
   "cell_type": "markdown",
   "id": "86345f63-ca41-489c-82a3-1ca5ad77969c",
   "metadata": {},
   "source": [
    "## Q4.Write a python program to create two threads. Thread one must print the list of squares and thread two must print the list of cubes."
   ]
  },
  {
   "cell_type": "code",
   "execution_count": 1,
   "id": "94c1972b-b76d-4238-a916-6b56e9af60d1",
   "metadata": {},
   "outputs": [
    {
     "name": "stdout",
     "output_type": "stream",
     "text": [
      "Square of 1: 1\n",
      "Square of 2: 4\n",
      "Square of 3: 9\n",
      "Square of 4: 16\n",
      "Square of 5: 25\n",
      "Cube of 1: 1\n",
      "Cube of 2: 8\n",
      "Cube of 3: 27\n",
      "Cube of 4: 64\n",
      "Cube of 5: 125\n",
      "Main thread exiting.\n"
     ]
    }
   ],
   "source": [
    "import threading\n",
    "\n",
    "def print_squares():\n",
    "    for i in range(1, 6):\n",
    "        print(f\"Square of {i}: {i*i}\")\n",
    "\n",
    "def print_cubes():\n",
    "    for i in range(1, 6):\n",
    "        print(f\"Cube of {i}: {i*i*i}\")\n",
    "\n",
    "# Create two threads\n",
    "thread1 = threading.Thread(target=print_squares)\n",
    "thread2 = threading.Thread(target=print_cubes)\n",
    "\n",
    "# Start the threads\n",
    "thread1.start()\n",
    "thread2.start()\n",
    "\n",
    "# Wait for the threads to complete\n",
    "thread1.join()\n",
    "thread2.join()\n",
    "\n",
    "print(\"Main thread exiting.\")\n"
   ]
  },
  {
   "cell_type": "code",
   "execution_count": null,
   "id": "e1355148-1917-434b-8d48-5bdbb996f2ba",
   "metadata": {},
   "outputs": [],
   "source": []
  },
  {
   "cell_type": "markdown",
   "id": "19eebcaf-b9cb-40ae-88e5-1857e0c8b34f",
   "metadata": {},
   "source": [
    "## Q5.State advantages and disadvantages of multithreading."
   ]
  },
  {
   "cell_type": "markdown",
   "id": "b5be5709-d29d-4a18-8bc7-3a2db18728a8",
   "metadata": {},
   "source": [
    "# Advantages of Multithreading:\n",
    "## Improved Responsiveness.\n",
    "##  Efficient CPU Utilization.\n",
    "## Simplified Management of Concurrent Activities.\n",
    "## Potential for Reduced Memory Usage.\n",
    "# Disadvantages of Multithreading:\n",
    "## Increased Development Complexity.\n",
    "## Overhead.\n",
    "## Limited Speedup.\n",
    "## Potential Deadlocks."
   ]
  },
  {
   "cell_type": "code",
   "execution_count": null,
   "id": "4f387f58-d252-4800-856a-b529c5786148",
   "metadata": {},
   "outputs": [],
   "source": []
  },
  {
   "cell_type": "markdown",
   "id": "ca3d22b9-55d3-4165-964f-801713a1281a",
   "metadata": {},
   "source": [
    "## Q6.Explain deadlocks and race conditions."
   ]
  },
  {
   "cell_type": "markdown",
   "id": "b6d433c0-ed8e-477e-a1e5-17c6e4f5c20e",
   "metadata": {},
   "source": [
    "##  Deadlocks: A deadlock occurs when two or more threads are permanently blocked, waiting for resources that are held by each other. Here's an analogy:\n",
    "## Imagine two people at a crossroads, each needing to cross the road to get to something they desperately need. However, both are waiting for the other person to cross first to free up the path. This creates a deadlock - neither can proceed until the other moves, but neither will move until the other does.\n",
    "\n",
    "## Race Conditions: A race condition occurs when two or more threads access a shared resource (e.g., a variable) and the outcome of the program depends on the unpredictable timing of their execution. It's like two people trying to update the same grocery list at the same time, potentially leading to inconsistencies."
   ]
  },
  {
   "cell_type": "code",
   "execution_count": null,
   "id": "a7c5e6ca-db43-41e3-a962-c11e9f8e4401",
   "metadata": {},
   "outputs": [],
   "source": []
  }
 ],
 "metadata": {
  "kernelspec": {
   "display_name": "Python 3 (ipykernel)",
   "language": "python",
   "name": "python3"
  },
  "language_info": {
   "codemirror_mode": {
    "name": "ipython",
    "version": 3
   },
   "file_extension": ".py",
   "mimetype": "text/x-python",
   "name": "python",
   "nbconvert_exporter": "python",
   "pygments_lexer": "ipython3",
   "version": "3.10.8"
  }
 },
 "nbformat": 4,
 "nbformat_minor": 5
}
